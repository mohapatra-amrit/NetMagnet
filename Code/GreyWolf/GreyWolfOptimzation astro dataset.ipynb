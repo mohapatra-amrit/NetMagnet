{
 "cells": [
  {
   "cell_type": "code",
   "execution_count": 1,
   "metadata": {
    "ExecuteTime": {
     "end_time": "2020-07-02T07:28:58.260931Z",
     "start_time": "2020-07-02T07:28:58.257551Z"
    }
   },
   "outputs": [],
   "source": [
    "import pandas as pd\n",
    "import networkx as nx\n",
    "import numpy as np\n",
    "import matplotlib.pyplot as plt"
   ]
  },
  {
   "cell_type": "code",
   "execution_count": 2,
   "metadata": {
    "ExecuteTime": {
     "end_time": "2020-07-02T05:38:13.301980Z",
     "start_time": "2020-07-02T05:38:13.282076Z"
    }
   },
   "outputs": [
    {
     "name": "stderr",
     "output_type": "stream",
     "text": [
      "C:\\Users\\windows\\AppData\\Local\\Temp\\ipykernel_4956\\3642148726.py:1: DtypeWarning: Columns (0) have mixed types. Specify dtype option on import or set low_memory=False.\n",
      "  edgelist = pd.read_csv(\"ca-AstroPh.mtx\", sep=\" \")\n"
     ]
    },
    {
     "data": {
      "text/html": [
       "<div>\n",
       "<style scoped>\n",
       "    .dataframe tbody tr th:only-of-type {\n",
       "        vertical-align: middle;\n",
       "    }\n",
       "\n",
       "    .dataframe tbody tr th {\n",
       "        vertical-align: top;\n",
       "    }\n",
       "\n",
       "    .dataframe thead th {\n",
       "        text-align: right;\n",
       "    }\n",
       "</style>\n",
       "<table border=\"1\" class=\"dataframe\">\n",
       "  <thead>\n",
       "    <tr style=\"text-align: right;\">\n",
       "      <th></th>\n",
       "      <th>%MatrixMarket</th>\n",
       "      <th>matrix</th>\n",
       "      <th>coordinate</th>\n",
       "      <th>pattern</th>\n",
       "      <th>symmetric</th>\n",
       "      <th>Unnamed: 5</th>\n",
       "    </tr>\n",
       "  </thead>\n",
       "  <tbody>\n",
       "    <tr>\n",
       "      <th>0</th>\n",
       "      <td>%17903</td>\n",
       "      <td>17903</td>\n",
       "      <td>196972.0</td>\n",
       "      <td>NaN</td>\n",
       "      <td>NaN</td>\n",
       "      <td>NaN</td>\n",
       "    </tr>\n",
       "    <tr>\n",
       "      <th>1</th>\n",
       "      <td>43</td>\n",
       "      <td>1</td>\n",
       "      <td>NaN</td>\n",
       "      <td>NaN</td>\n",
       "      <td>NaN</td>\n",
       "      <td>NaN</td>\n",
       "    </tr>\n",
       "    <tr>\n",
       "      <th>2</th>\n",
       "      <td>1952</td>\n",
       "      <td>1</td>\n",
       "      <td>NaN</td>\n",
       "      <td>NaN</td>\n",
       "      <td>NaN</td>\n",
       "      <td>NaN</td>\n",
       "    </tr>\n",
       "    <tr>\n",
       "      <th>3</th>\n",
       "      <td>2526</td>\n",
       "      <td>1</td>\n",
       "      <td>NaN</td>\n",
       "      <td>NaN</td>\n",
       "      <td>NaN</td>\n",
       "      <td>NaN</td>\n",
       "    </tr>\n",
       "    <tr>\n",
       "      <th>4</th>\n",
       "      <td>3027</td>\n",
       "      <td>1</td>\n",
       "      <td>NaN</td>\n",
       "      <td>NaN</td>\n",
       "      <td>NaN</td>\n",
       "      <td>NaN</td>\n",
       "    </tr>\n",
       "  </tbody>\n",
       "</table>\n",
       "</div>"
      ],
      "text/plain": [
       "  %MatrixMarket  matrix  coordinate  pattern  symmetric  Unnamed: 5\n",
       "0        %17903   17903    196972.0      NaN        NaN         NaN\n",
       "1            43       1         NaN      NaN        NaN         NaN\n",
       "2          1952       1         NaN      NaN        NaN         NaN\n",
       "3          2526       1         NaN      NaN        NaN         NaN\n",
       "4          3027       1         NaN      NaN        NaN         NaN"
      ]
     },
     "execution_count": 2,
     "metadata": {},
     "output_type": "execute_result"
    }
   ],
   "source": [
    "edgelist = pd.read_csv(\"ca-AstroPh.mtx\", sep=\" \")\n",
    "#edgelist.drop(['unweighted'], axis=1, inplace=True)\n",
    "edgelist.rename(columns={'%': 'Source', 'sym': 'Target'}, inplace=True)\n",
    "edgelist.head()"
   ]
  },
  {
   "cell_type": "code",
   "execution_count": 3,
   "metadata": {
    "ExecuteTime": {
     "end_time": "2020-07-02T05:38:13.414135Z",
     "start_time": "2020-07-02T05:38:13.409667Z"
    }
   },
   "outputs": [
    {
     "name": "stdout",
     "output_type": "stream",
     "text": [
      "<class 'pandas.core.frame.DataFrame'>\n",
      "RangeIndex: 196973 entries, 0 to 196972\n",
      "Data columns (total 6 columns):\n",
      " #   Column         Non-Null Count   Dtype  \n",
      "---  ------         --------------   -----  \n",
      " 0   %MatrixMarket  196973 non-null  object \n",
      " 1   matrix         196973 non-null  int64  \n",
      " 2   coordinate     1 non-null       float64\n",
      " 3   pattern        0 non-null       float64\n",
      " 4   symmetric      0 non-null       float64\n",
      " 5   Unnamed: 5     0 non-null       float64\n",
      "dtypes: float64(4), int64(1), object(1)\n",
      "memory usage: 9.0+ MB\n"
     ]
    }
   ],
   "source": [
    "edgelist.info()"
   ]
  },
  {
   "cell_type": "code",
   "execution_count": 4,
   "metadata": {
    "ExecuteTime": {
     "end_time": "2020-07-02T05:38:14.952466Z",
     "start_time": "2020-07-02T05:38:14.947879Z"
    }
   },
   "outputs": [],
   "source": [
    "p = 0.03 # Activation Probability used in independent cascade model\n",
    "k = 5    # Seed Size\n",
    "max_t = 1000  # Max Iterations"
   ]
  },
  {
   "cell_type": "code",
   "execution_count": 5,
   "metadata": {
    "ExecuteTime": {
     "end_time": "2020-07-02T05:38:15.396664Z",
     "start_time": "2020-07-02T05:38:15.344723Z"
    }
   },
   "outputs": [],
   "source": [
    "hamsterster = nx.read_edgelist(\"ca-AstroPh.mtx\", comments = '%')"
   ]
  },
  {
   "cell_type": "code",
   "execution_count": 6,
   "metadata": {
    "ExecuteTime": {
     "end_time": "2020-07-02T05:38:18.245107Z",
     "start_time": "2020-07-02T05:38:18.238385Z"
    }
   },
   "outputs": [
    {
     "data": {
      "text/plain": [
       "(17903, 196972)"
      ]
     },
     "execution_count": 6,
     "metadata": {},
     "output_type": "execute_result"
    }
   ],
   "source": [
    "num_nodes = hamsterster.number_of_nodes()\n",
    "num_edges = hamsterster.number_of_edges()\n",
    "num_nodes, num_edges"
   ]
  },
  {
   "cell_type": "code",
   "execution_count": 7,
   "metadata": {
    "ExecuteTime": {
     "end_time": "2020-07-02T05:38:21.130779Z",
     "start_time": "2020-07-02T05:38:21.126716Z"
    }
   },
   "outputs": [],
   "source": [
    "def neighbors(idx):\n",
    "    return list(dict(hamsterster.adjacency())[str(int(idx))])\n",
    "\n",
    "def len_second_neighbors(idx, neighbor_list=None):\n",
    "    if neighbor_list is None:\n",
    "        neighbor_list = neighbors(idx)\n",
    "    l = []\n",
    "    for t in neighbor_list:\n",
    "        l += neighbors(t)\n",
    "    if str(idx) in l:\n",
    "        return len(l) - 1\n",
    "    else:\n",
    "        return len(l)"
   ]
  },
  {
   "cell_type": "markdown",
   "metadata": {},
   "source": [
    "## Fitness"
   ]
  },
  {
   "cell_type": "code",
   "execution_count": 8,
   "metadata": {
    "ExecuteTime": {
     "end_time": "2020-07-02T07:14:10.088532Z",
     "start_time": "2020-07-02T07:14:10.077968Z"
    }
   },
   "outputs": [],
   "source": [
    "# Equation 13\n",
    "def get_seed_set(vec, sol_size):\n",
    "    try:\n",
    "        return np.argsort(vec[0, :])[- sol_size - 1:-1] + 1\n",
    "    except IndexError:\n",
    "        return np.argsort(vec)[-sol_size-1:-1] + 1\n",
    "\n",
    "def fitness(position_vec, sol_size):\n",
    "    wcj = []\n",
    "    if position_vec.shape[0] != 1:\n",
    "        position_vec = np.reshape(position_vec, newshape=(1, -1))\n",
    "    seed_set = get_seed_set(position_vec, sol_size)\n",
    "    for seed in seed_set:\n",
    "        nb_list = neighbors(seed)\n",
    "        dj = len(nb_list)\n",
    "        Ivj = p * dj * (dj + len_second_neighbors(seed, nb_list) * p)\n",
    "        wcj.append(Ivj)\n",
    "\n",
    "    return -1* np.sum(wcj * np.log(wcj/np.sum(wcj))) / np.sum(wcj) # Entropy"
   ]
  },
  {
   "cell_type": "markdown",
   "metadata": {},
   "source": [
    "## Wolves"
   ]
  },
  {
   "cell_type": "code",
   "execution_count": 9,
   "metadata": {
    "ExecuteTime": {
     "end_time": "2020-07-02T07:19:01.924184Z",
     "start_time": "2020-07-02T07:19:01.917957Z"
    }
   },
   "outputs": [],
   "source": [
    "# Algorithm 3\n",
    "def init_wolf(graph):\n",
    "    X = np.random.random((1, len(graph))) * list(dict(graph.degree()).values())\n",
    "#     X /= np.sum(X, axis=1)[:, None]\n",
    "    return X\n",
    "\n",
    "def init_omega_wolves(num, graph):\n",
    "    X = np.random.random((num, len(graph))) * list(dict(graph.degree()).values())\n",
    "#     X /= np.sum(X, axis=1)[:, None]\n",
    "    return X"
   ]
  },
  {
   "cell_type": "code",
   "execution_count": 10,
   "metadata": {
    "ExecuteTime": {
     "end_time": "2020-07-02T07:42:25.723330Z",
     "start_time": "2020-07-02T07:42:25.717971Z"
    }
   },
   "outputs": [],
   "source": [
    "# Equation 7, 8, 9\n",
    "def update_random_constant_vectors(r1, r2, t):    \n",
    "    a = 2. - 2. * t / max_t\n",
    "    A = 2 * r1 * a - a\n",
    "    C = 2 * r2\n",
    "    return a, A, C"
   ]
  },
  {
   "cell_type": "code",
   "execution_count": 11,
   "metadata": {
    "ExecuteTime": {
     "end_time": "2020-07-02T07:19:02.241917Z",
     "start_time": "2020-07-02T07:19:02.233495Z"
    }
   },
   "outputs": [],
   "source": [
    "# Algorithm 4\n",
    "def update_omega_wolf(A, C, V, Xi, alpha, beta, delta):\n",
    "    Y1 = alpha - A[0, :] * np.abs(C[0, :] * alpha - Xi)\n",
    "    Y2 = alpha - A[1, :] * np.abs(C[1, :] * delta - Xi)\n",
    "    Y3 = alpha - A[2, :] * np.abs(C[2, :] * alpha - Xi)\n",
    "    Xnew = (Y1 + Y2 + Y3)/3\n",
    "    return Xnew\n",
    "    \n",
    "def update_position_vector(A, C, V, alpha, beta, delta, omega_wolves):\n",
    "    for i in range(omega_wolves.shape[0]):\n",
    "        omega_wolves[i, :] = update_omega_wolf(A, C, V, omega_wolves[i, :], alpha, beta, delta)\n",
    "    return omega_wolves"
   ]
  },
  {
   "cell_type": "code",
   "execution_count": 12,
   "metadata": {
    "ExecuteTime": {
     "end_time": "2020-07-02T07:27:12.451629Z",
     "start_time": "2020-07-02T07:27:12.439728Z"
    }
   },
   "outputs": [],
   "source": [
    "def init_primary_pack(V, sol_size):\n",
    "    alpha = init_wolf(V)\n",
    "    beta = init_wolf(V)\n",
    "    delta = init_wolf(V)\n",
    "    \n",
    "    alpha_score = fitness(alpha, sol_size)\n",
    "    beta_score = fitness(beta, sol_size)\n",
    "    delta_score = fitness(delta, sol_size)\n",
    "    if delta_score > alpha_score:\n",
    "        delta, alpha = alpha, delta\n",
    "    if delta_score > beta_score:\n",
    "        delta, beta = beta, delta\n",
    "    if beta_score > alpha_score:\n",
    "        beta, alpha = alpha, beta\n",
    "    return alpha, beta, delta\n",
    "\n",
    "def update_pack(alpha, beta, delta, omega_wolves, sol_size):\n",
    "    alpha_score = fitness(alpha, sol_size)\n",
    "    beta_score = fitness(beta, sol_size)\n",
    "    delta_score = fitness(delta, sol_size)\n",
    "    for i in range(omega_wolves.shape[0]):\n",
    "        omega_score = fitness(omega_wolves[i:i+1], sol_size)\n",
    "        if omega_score > alpha_score:\n",
    "            temp = delta\n",
    "            delta = beta\n",
    "            beta = alpha\n",
    "            alpha = omega_wolves[i, :]\n",
    "            omega_wolves[i, :] = temp\n",
    "            del temp\n",
    "        elif omega_score > beta_score:\n",
    "            temp = delta\n",
    "            delta = beta\n",
    "            beta = omega_wolves[i, :]\n",
    "            omega_wolves[i, :] = temp\n",
    "            del temp\n",
    "        elif omega_score > delta_score:\n",
    "            delta, omega_wolves[i, :] = omega_wolves[i, :], delta\n",
    "    \n",
    "    return alpha, beta, delta, omega_wolves"
   ]
  },
  {
   "cell_type": "markdown",
   "metadata": {},
   "source": [
    "## Algorithm"
   ]
  },
  {
   "cell_type": "code",
   "execution_count": 13,
   "metadata": {
    "ExecuteTime": {
     "end_time": "2020-07-02T08:08:22.187841Z",
     "start_time": "2020-07-02T07:42:39.187684Z"
    },
    "scrolled": false
   },
   "outputs": [
    {
     "name": "stdout",
     "output_type": "stream",
     "text": [
      "Subgrah Selected with 16946 nodes\n",
      "Initialized 50 wolves\n",
      "Iteration 0/200\tFitness: [2.1560164476733075, 1.853512578644488, 2.3177688238399656]\n",
      "Iteration 1/200\tFitness: [2.286278519478313, 2.138286328454892, 2.3002698853765544]\n",
      "Iteration 2/200\tFitness: [2.5884142643010075, 2.393867009801305, 2.393867009801305]\n",
      "Iteration 3/200\tFitness: [2.5576717404996505, 2.5585288176396412, 2.5585288176396412]\n",
      "Iteration 4/200\tFitness: [1.58034867219069, 1.58034867219069, 1.58034867219069]\n",
      "Iteration 5/200\tFitness: [1.5677375875408128, 1.5677375875408128, 1.5677375875408128]\n",
      "Iteration 6/200\tFitness: [1.6756462978806173, 1.7752387871205964, 1.676212012030186]\n",
      "Iteration 7/200\tFitness: [1.6193625336655721, 1.6193625336655721, 1.673134756848877]\n",
      "Iteration 8/200\tFitness: [1.7568134792316095, 1.8528113223686544, 1.7568134792316095]\n",
      "Iteration 9/200\tFitness: [1.7933451757785615, 1.7933451757785615, 1.7689285615317956]\n",
      "Iteration 10/200\tFitness: [1.7933451757785617, 1.9313823472064158, 1.7933451757785615]\n",
      "Iteration 11/200\tFitness: [1.9429637772112915, 1.7889657345938594, 1.9493553399841175]\n",
      "Iteration 12/200\tFitness: [1.1358686998512606, 0.9746155052458545, 1.032375905584779]\n",
      "Iteration 13/200\tFitness: [1.129759373550851, 0.9783064518827894, 1.0731984404453647]\n",
      "Iteration 14/200\tFitness: [1.0556321435979035, 1.1042460708972024, 1.1074075442747846]\n",
      "Iteration 15/200\tFitness: [0.9689658608166621, 0.9691209574280788, 1.0351965566106294]\n",
      "Iteration 16/200\tFitness: [0.9381459222169626, 0.9144867553918172, 0.9381459222169626]\n",
      "Iteration 17/200\tFitness: [0.9018625055629581, 0.892984082397298, 0.8835126129408223]\n",
      "Iteration 18/200\tFitness: [1.0053603627162209, 0.8682645047405438, 0.9333038468991841]\n",
      "Iteration 19/200\tFitness: [1.0053603627162209, 0.8682645047405438, 0.9168219281591024]\n",
      "Iteration 20/200\tFitness: [1.0058834771885172, 0.9168219281591024, 0.9386843753462757]\n",
      "Iteration 21/200\tFitness: [0.9168219281591026, 1.008876050739678, 1.0517454321219641]\n",
      "Iteration 22/200\tFitness: [0.6033917556252797, 0.6033917556252797, 0.9845493679687436]\n",
      "Iteration 23/200\tFitness: [0.8682645047405437, 0.536034817509069, 0.5360348175090689]\n",
      "Iteration 24/200\tFitness: [0.9840232025349555, 0.5275672724705048, 0.530053238655249]\n",
      "Iteration 25/200\tFitness: [0.9746828221314164, 0.8612587193876325, 0.8613752130401934]\n",
      "Iteration 26/200\tFitness: [0.9745463264123068, 0.8520371697237186, 0.8415832617992576]\n",
      "Iteration 27/200\tFitness: [0.8254161647487572, 0.9600762822830313, 0.959546707239115]\n",
      "Iteration 28/200\tFitness: [0.9500594302600655, 0.8355544310116773, 0.8351609071595529]\n",
      "Iteration 29/200\tFitness: [0.9500594302600655, 0.9500594302600652, 0.8292337433789929]\n",
      "Iteration 30/200\tFitness: [0.8256657904440676, 0.9500594302600652, 0.9501967730737187]\n",
      "Iteration 31/200\tFitness: [0.9499955901018758, 0.822920137437233, 0.9499955901018758]\n",
      "Iteration 32/200\tFitness: [0.9450388954815913, 0.822920137437233, 0.8256657904440676]\n",
      "Iteration 33/200\tFitness: [0.9450388954815911, 0.8256657904440675, 0.8256657904440676]\n",
      "Iteration 34/200\tFitness: [0.9449013885770852, 0.8256657904440676, 0.9616126631457462]\n",
      "Iteration 35/200\tFitness: [0.9509882807080966, 0.9449013885770852, 0.9500594302600655]\n",
      "Iteration 36/200\tFitness: [0.9616126631457462, 0.9449013885770849, 0.9449013885770849]\n",
      "Iteration 37/200\tFitness: [0.9616126631457462, 0.9617495931487529, 0.9616126631457462]\n",
      "Iteration 38/200\tFitness: [0.9616126631457462, 0.9616126631457462, 0.9616126631457462]\n",
      "Iteration 39/200\tFitness: [0.9616126631457462, 0.9616126631457462, 0.9616126631457462]\n",
      "Iteration 40/200\tFitness: [0.9616126631457461, 0.9616126631457461, 0.9616126631457461]\n",
      "Iteration 41/200\tFitness: [0.9616126631457461, 0.9616126631457461, 0.9616126631457461]\n",
      "Iteration 42/200\tFitness: [0.9616126631457462, 0.9616126631457462, 0.9616126631457462]\n",
      "Iteration 43/200\tFitness: [0.9616126631457462, 0.9616126631457462, 0.9616126631457462]\n",
      "Iteration 44/200\tFitness: [0.9616126631457464, 0.9616126631457464, 0.9616126631457464]\n",
      "Iteration 45/200\tFitness: [0.9616126631457464, 0.9616126631457464, 0.9616126631457464]\n",
      "Iteration 46/200\tFitness: [0.9616126631457462, 0.9616126631457462, 0.9616126631457462]\n",
      "Iteration 47/200\tFitness: [0.9616126631457462, 0.9616126631457462, 0.9616126631457462]\n",
      "Iteration 48/200\tFitness: [0.9616126631457462, 0.9616126631457462, 0.9616126631457462]\n",
      "Iteration 49/200\tFitness: [0.982294034108337, 0.982294034108337, 0.982294034108337]\n",
      "Iteration 50/200\tFitness: [0.9684702731995402, 0.9684702731995402, 0.9684702731995402]\n",
      "Iteration 51/200\tFitness: [0.9690799569131251, 0.9690799569131251, 0.9690799569131251]\n",
      "Iteration 52/200\tFitness: [0.9690799569131251, 0.9690799569131251, 0.9690799569131251]\n",
      "Iteration 53/200\tFitness: [0.9690799569131249, 0.9690799569131249, 0.9690799569131249]\n",
      "Iteration 54/200\tFitness: [0.9690799569131251, 0.9690799569131251, 0.9690799569131251]\n",
      "Iteration 55/200\tFitness: [0.9690799569131249, 0.9690799569131249, 0.9690799569131249]\n",
      "Iteration 56/200\tFitness: [0.9690799569131249, 0.9690799569131249, 0.9690799569131249]\n",
      "Iteration 57/200\tFitness: [0.9690799569131251, 0.9690799569131251, 0.9690799569131251]\n",
      "Iteration 58/200\tFitness: [0.9690799569131251, 0.9690799569131251, 0.9690799569131251]\n",
      "Iteration 59/200\tFitness: [0.9690799569131251, 0.9690799569131251, 0.9690799569131251]\n",
      "Iteration 60/200\tFitness: [0.9690799569131249, 0.9690799569131249, 0.9690799569131249]\n",
      "Iteration 61/200\tFitness: [0.9690799569131251, 0.9690799569131251, 0.9690799569131251]\n",
      "Iteration 62/200\tFitness: [0.9690799569131251, 0.9690799569131251, 0.9690799569131251]\n",
      "Iteration 63/200\tFitness: [0.9838372440869927, 0.9838372440869927, 0.9838372440869927]\n",
      "Iteration 64/200\tFitness: [0.9714171698410191, 0.9714171698410191, 0.9714171698410191]\n",
      "Iteration 65/200\tFitness: [0.9714171698410191, 0.9714171698410191, 0.9714171698410191]\n",
      "Iteration 66/200\tFitness: [0.9708966562122825, 0.9708966562122825, 0.9708966562122825]\n",
      "Iteration 67/200\tFitness: [0.9710923462759243, 0.9710923462759243, 0.9710923462759243]\n",
      "Iteration 68/200\tFitness: [0.9710923462759243, 0.9710923462759243, 0.9710923462759243]\n",
      "Iteration 69/200\tFitness: [0.9710923462759241, 0.9710923462759241, 0.9710923462759241]\n",
      "Iteration 70/200\tFitness: [0.9710923462759243, 0.9710923462759243, 0.9710923462759243]\n",
      "Iteration 71/200\tFitness: [0.9741638140731111, 0.9741638140731111, 0.9741638140731111]\n",
      "Iteration 72/200\tFitness: [0.9962100088366321, 0.9962100088366321, 0.9962100088366321]\n",
      "Iteration 73/200\tFitness: [0.9962100088366319, 0.9962100088366319, 0.9962100088366319]\n",
      "Iteration 74/200\tFitness: [0.9790958175065556, 0.9790958175065556, 0.9790958175065556]\n",
      "Iteration 75/200\tFitness: [0.9790958175065556, 0.9790958175065556, 0.9790958175065556]\n",
      "Iteration 76/200\tFitness: [0.9790958175065556, 0.9790958175065556, 0.9790958175065556]\n",
      "Iteration 77/200\tFitness: [0.9790958175065556, 0.9790958175065556, 0.9790958175065556]\n",
      "Iteration 78/200\tFitness: [0.9790958175065556, 0.9790958175065556, 0.9790958175065556]\n",
      "Iteration 79/200\tFitness: [0.9714084025776769, 0.9714084025776769, 0.9714084025776769]\n",
      "Iteration 80/200\tFitness: [0.9714084025776769, 0.9714084025776769, 0.9714084025776769]\n",
      "Iteration 81/200\tFitness: [0.9434797210959842, 0.9434797210959842, 0.9434797210959842]\n",
      "Iteration 82/200\tFitness: [0.9434797210959842, 0.9434797210959842, 0.9434797210959842]\n",
      "Iteration 83/200\tFitness: [0.9434797210959842, 0.9434797210959842, 0.9434797210959842]\n",
      "Iteration 84/200\tFitness: [0.9434797210959842, 0.9434797210959842, 0.9434797210959842]\n",
      "Iteration 85/200\tFitness: [0.9434797210959842, 0.9434797210959842, 0.9434797210959842]\n",
      "Iteration 86/200\tFitness: [0.9434797210959842, 0.9434797210959842, 0.9434797210959842]\n",
      "Iteration 87/200\tFitness: [0.9434797210959842, 0.9434797210959842, 0.9434797210959842]\n",
      "Iteration 88/200\tFitness: [0.9434797210959842, 0.9434797210959842, 0.9434797210959842]\n",
      "Iteration 89/200\tFitness: [0.943479721095984, 0.943479721095984, 0.943479721095984]\n",
      "Iteration 90/200\tFitness: [0.9434797210959842, 0.9434797210959842, 0.9434797210959842]\n",
      "Iteration 91/200\tFitness: [0.9434797210959842, 0.9434797210959842, 0.9434797210959842]\n",
      "Iteration 92/200\tFitness: [0.9434797210959842, 0.9434797210959842, 0.9434797210959842]\n",
      "Iteration 93/200\tFitness: [0.9434797210959842, 0.9434797210959842, 0.9434797210959842]\n"
     ]
    },
    {
     "name": "stdout",
     "output_type": "stream",
     "text": [
      "Iteration 94/200\tFitness: [0.9434797210959844, 0.9434797210959844, 0.9434797210959844]\n",
      "Iteration 95/200\tFitness: [0.9434797210959842, 0.9434797210959842, 0.9434797210959842]\n",
      "Iteration 96/200\tFitness: [0.9958306165553013, 0.9958306165553013, 0.9958306165553013]\n",
      "Iteration 97/200\tFitness: [0.9958306165553013, 0.9958306165553013, 0.9958306165553013]\n",
      "Iteration 98/200\tFitness: [0.9958306165553013, 0.9958306165553013, 0.9958306165553013]\n",
      "Iteration 99/200\tFitness: [0.9958306165553013, 0.9958306165553013, 0.9958306165553013]\n",
      "Iteration 100/200\tFitness: [0.9958306165553013, 0.9958306165553013, 0.9958306165553013]\n",
      "Iteration 101/200\tFitness: [0.9958306165553013, 0.9958306165553013, 0.9958306165553013]\n",
      "Iteration 102/200\tFitness: [0.9958306165553013, 0.9958306165553013, 0.9958306165553013]\n",
      "Iteration 103/200\tFitness: [0.9958306165553013, 0.9958306165553013, 0.9958306165553013]\n",
      "Iteration 104/200\tFitness: [0.9958306165553013, 0.9958306165553013, 0.9958306165553013]\n",
      "Iteration 105/200\tFitness: [0.9958306165553013, 0.9958306165553013, 0.9958306165553013]\n",
      "Iteration 106/200\tFitness: [0.9958306165553013, 0.9958306165553013, 0.9958306165553013]\n",
      "Iteration 107/200\tFitness: [0.9958306165553013, 0.9958306165553013, 0.9958306165553013]\n",
      "Iteration 108/200\tFitness: [0.9958306165553013, 0.9958306165553013, 0.9958306165553013]\n",
      "Iteration 109/200\tFitness: [0.9958306165553015, 0.9958306165553015, 0.9958306165553015]\n",
      "Iteration 110/200\tFitness: [0.9950517879027722, 0.9950517879027722, 0.9950517879027722]\n",
      "Iteration 111/200\tFitness: [0.9950517879027719, 0.9950517879027719, 0.9950517879027719]\n",
      "Iteration 112/200\tFitness: [0.9950517879027719, 0.9950517879027719, 0.9950517879027719]\n",
      "Iteration 113/200\tFitness: [0.9950517879027719, 0.9950517879027719, 0.9950517879027719]\n",
      "Iteration 114/200\tFitness: [0.9950517879027719, 0.9950517879027719, 0.9950517879027719]\n",
      "Iteration 115/200\tFitness: [0.9950517879027722, 0.9950517879027722, 0.9950517879027722]\n",
      "Iteration 116/200\tFitness: [0.9978240875497781, 0.9978240875497781, 0.9978240875497781]\n",
      "Iteration 117/200\tFitness: [0.9978240875497781, 0.9978240875497781, 0.9978240875497781]\n",
      "Iteration 118/200\tFitness: [0.9978240875497781, 0.9978240875497781, 0.9978240875497781]\n",
      "Iteration 119/200\tFitness: [0.9978240875497784, 0.9978240875497784, 0.9978240875497784]\n",
      "Iteration 120/200\tFitness: [0.9978240875497781, 0.9978240875497781, 0.9978240875497781]\n",
      "Iteration 121/200\tFitness: [0.9978240875497781, 0.9978240875497781, 0.9978240875497781]\n",
      "Iteration 122/200\tFitness: [0.9978240875497781, 0.9978240875497781, 0.9978240875497781]\n",
      "Iteration 123/200\tFitness: [0.9978240875497781, 0.9978240875497781, 0.9978240875497781]\n",
      "Iteration 124/200\tFitness: [0.9978240875497781, 0.9978240875497781, 0.9978240875497781]\n",
      "Iteration 125/200\tFitness: [0.9978240875497784, 0.9978240875497784, 0.9978240875497784]\n",
      "Iteration 126/200\tFitness: [0.9978240875497784, 0.9978240875497784, 0.9978240875497784]\n",
      "Iteration 127/200\tFitness: [0.9978240875497784, 0.9978240875497784, 0.9978240875497784]\n",
      "Iteration 128/200\tFitness: [0.9978240875497781, 0.9978240875497781, 0.9978240875497781]\n",
      "Iteration 129/200\tFitness: [1.7447498231741556, 1.7447498231741556, 1.7447498231741556]\n",
      "Iteration 130/200\tFitness: [1.7447498231741556, 1.7447498231741556, 1.7447498231741556]\n",
      "Iteration 131/200\tFitness: [1.7447498231741556, 1.7447498231741556, 1.7447498231741556]\n",
      "Iteration 132/200\tFitness: [1.7447498231741556, 1.7447498231741556, 1.7447498231741556]\n",
      "Iteration 133/200\tFitness: [1.7447498231741556, 1.7447498231741556, 1.7447498231741556]\n",
      "Iteration 134/200\tFitness: [1.7447498231741556, 1.7447498231741556, 1.7447498231741556]\n",
      "Iteration 135/200\tFitness: [1.7447498231741556, 1.7447498231741556, 1.7447498231741556]\n",
      "Iteration 136/200\tFitness: [1.8418814237412509, 1.8418814237412509, 1.8418814237412509]\n",
      "Iteration 137/200\tFitness: [1.8418814237412509, 1.8418814237412509, 1.8418814237412509]\n",
      "Iteration 138/200\tFitness: [1.8418814237412509, 1.8418814237412509, 1.8418814237412509]\n",
      "Iteration 139/200\tFitness: [1.8418814237412506, 1.8418814237412506, 1.8418814237412506]\n",
      "Iteration 140/200\tFitness: [1.8418814237412506, 1.8418814237412506, 1.8418814237412506]\n",
      "Iteration 141/200\tFitness: [1.8418814237412506, 1.8418814237412506, 1.8418814237412506]\n",
      "Iteration 142/200\tFitness: [1.8418814237412506, 1.8418814237412506, 1.8418814237412506]\n",
      "Iteration 143/200\tFitness: [1.8418814237412506, 1.8418814237412506, 1.8418814237412506]\n",
      "Iteration 144/200\tFitness: [1.8418814237412506, 1.8418814237412506, 1.8418814237412506]\n",
      "Iteration 145/200\tFitness: [1.8418814237412506, 1.8418814237412506, 1.8418814237412506]\n",
      "Iteration 146/200\tFitness: [1.8418814237412506, 1.8418814237412506, 1.8418814237412506]\n",
      "Iteration 147/200\tFitness: [1.8418814237412506, 1.8418814237412506, 1.8418814237412506]\n",
      "Iteration 148/200\tFitness: [1.8418814237412506, 1.8418814237412506, 1.8418814237412506]\n",
      "Iteration 149/200\tFitness: [1.8418814237412506, 1.8418814237412506, 1.8418814237412506]\n",
      "Iteration 150/200\tFitness: [1.8418814237412506, 1.8418814237412506, 1.8418814237412506]\n",
      "Iteration 151/200\tFitness: [1.8418814237412509, 1.8418814237412509, 1.8418814237412509]\n",
      "Iteration 152/200\tFitness: [1.8418814237412509, 1.8418814237412509, 1.8418814237412509]\n",
      "Iteration 153/200\tFitness: [1.8418814237412509, 1.8418814237412509, 1.8418814237412509]\n",
      "Iteration 154/200\tFitness: [1.8418814237412506, 1.8418814237412506, 1.8418814237412506]\n",
      "Iteration 155/200\tFitness: [1.8418814237412506, 1.8418814237412506, 1.8418814237412506]\n",
      "Iteration 156/200\tFitness: [1.8434759110380343, 1.8434759110380343, 1.8434759110380343]\n",
      "Iteration 157/200\tFitness: [1.8434759110380343, 1.8434759110380343, 1.8434759110380343]\n",
      "Iteration 158/200\tFitness: [1.788260614171386, 1.788260614171386, 1.788260614171386]\n",
      "Iteration 159/200\tFitness: [1.788260614171386, 1.788260614171386, 1.788260614171386]\n",
      "Iteration 160/200\tFitness: [1.788260614171386, 1.788260614171386, 1.788260614171386]\n",
      "Iteration 161/200\tFitness: [1.788260614171386, 1.788260614171386, 1.788260614171386]\n",
      "Iteration 162/200\tFitness: [1.788260614171386, 1.788260614171386, 1.788260614171386]\n",
      "Iteration 163/200\tFitness: [1.788260614171386, 1.788260614171386, 1.788260614171386]\n",
      "Iteration 164/200\tFitness: [1.788260614171386, 1.788260614171386, 1.788260614171386]\n",
      "Iteration 165/200\tFitness: [1.788260614171386, 1.788260614171386, 1.788260614171386]\n",
      "Iteration 166/200\tFitness: [1.788260614171386, 1.788260614171386, 1.788260614171386]\n",
      "Iteration 167/200\tFitness: [1.788260614171386, 1.788260614171386, 1.788260614171386]\n",
      "Iteration 168/200\tFitness: [1.788260614171386, 1.788260614171386, 1.788260614171386]\n",
      "Iteration 169/200\tFitness: [1.788260614171386, 1.788260614171386, 1.788260614171386]\n",
      "Iteration 170/200\tFitness: [1.788260614171386, 1.788260614171386, 1.788260614171386]\n",
      "Iteration 171/200\tFitness: [1.788260614171386, 1.788260614171386, 1.788260614171386]\n",
      "Iteration 172/200\tFitness: [1.788260614171386, 1.788260614171386, 1.788260614171386]\n",
      "Iteration 173/200\tFitness: [1.7802662292313143, 1.7802662292313143, 1.7802662292313143]\n",
      "Iteration 174/200\tFitness: [1.7802662292313143, 1.7802662292313143, 1.7802662292313143]\n",
      "Iteration 175/200\tFitness: [1.7802662292313143, 1.7802662292313143, 1.7802662292313143]\n",
      "Iteration 176/200\tFitness: [1.7802662292313143, 1.7802662292313143, 1.7802662292313143]\n",
      "Iteration 177/200\tFitness: [1.7802662292313138, 1.7802662292313138, 1.7802662292313138]\n",
      "Iteration 178/200\tFitness: [1.7802662292313138, 1.7802662292313138, 1.7802662292313138]\n",
      "Iteration 179/200\tFitness: [1.7802662292313138, 1.7802662292313138, 1.7802662292313138]\n",
      "Iteration 180/200\tFitness: [1.7545592097411258, 1.7545592097411258, 1.7545592097411258]\n",
      "Iteration 181/200\tFitness: [1.7545592097411258, 1.7545592097411258, 1.7545592097411258]\n",
      "Iteration 182/200\tFitness: [1.754559209741126, 1.754559209741126, 1.754559209741126]\n",
      "Iteration 183/200\tFitness: [1.754559209741126, 1.754559209741126, 1.754559209741126]\n",
      "Iteration 184/200\tFitness: [1.754559209741126, 1.754559209741126, 1.754559209741126]\n",
      "Iteration 185/200\tFitness: [1.754559209741126, 1.754559209741126, 1.754559209741126]\n",
      "Iteration 186/200\tFitness: [1.754559209741126, 1.754559209741126, 1.754559209741126]\n",
      "Iteration 187/200\tFitness: [1.754559209741126, 1.754559209741126, 1.754559209741126]\n"
     ]
    },
    {
     "name": "stdout",
     "output_type": "stream",
     "text": [
      "Iteration 188/200\tFitness: [1.7545592097411258, 1.7545592097411258, 1.7545592097411258]\n",
      "Iteration 189/200\tFitness: [1.7545592097411262, 1.7545592097411262, 1.7545592097411262]\n",
      "Iteration 190/200\tFitness: [1.7545592097411262, 1.7545592097411262, 1.7545592097411262]\n",
      "Iteration 191/200\tFitness: [1.754559209741126, 1.754559209741126, 1.754559209741126]\n",
      "Iteration 192/200\tFitness: [1.7545592097411258, 1.7545592097411258, 1.7545592097411258]\n",
      "Iteration 193/200\tFitness: [1.7545592097411258, 1.7545592097411258, 1.7545592097411258]\n",
      "Iteration 194/200\tFitness: [1.723622727476387, 1.723622727476387, 1.723622727476387]\n",
      "Iteration 195/200\tFitness: [1.754925460958715, 1.754925460958715, 1.754925460958715]\n",
      "Iteration 196/200\tFitness: [1.754925460958715, 1.754925460958715, 1.754925460958715]\n",
      "Iteration 197/200\tFitness: [1.754925460958715, 1.754925460958715, 1.754925460958715]\n",
      "Iteration 198/200\tFitness: [1.7549254609587153, 1.7549254609587153, 1.7549254609587153]\n",
      "Iteration 199/200\tFitness: [1.7549254609587153, 1.7549254609587153, 1.7549254609587153]\n",
      "Iteration 200/200\tFitness: [1.7549254609587153, 1.7549254609587153, 1.7549254609587153]\n"
     ]
    },
    {
     "data": {
      "image/png": "[encoded data removed]",
      "text/plain": [
       "<Figure size 640x480 with 1 Axes>"
      ]
     },
     "metadata": {},
     "output_type": "display_data"
    }
   ],
   "source": [
    "def GWO(pack_size, graph, sol_size=3, max_iters=100, loss_fn=fitness):\n",
    "    assert pack_size > 3, \"Pack Size should be at least 4\"\n",
    "    losses = []\n",
    "\n",
    "    # V' selection\n",
    "    degree = hamsterster.degree()\n",
    "    to_keep = [n[0] for n in degree if n[1] != 1]\n",
    "    V = hamsterster.subgraph(to_keep)\n",
    "    print(\"Subgrah Selected with\", len(V), \"nodes\")\n",
    "\n",
    "    alpha, beta, delta = init_primary_pack(V, sol_size)\n",
    "    omega_wolves = init_omega_wolves(pack_size - 3, V)\n",
    "    fitness_vals= []\n",
    "    iter_vals = []\n",
    "    print(\"Initialized\", pack_size, \"wolves\")\n",
    "    print(\"Iteration {}/{}\".format(0, max_iters), end=\"\\t\")\n",
    "    alpha, beta, delta, omega_wolves = update_pack(alpha, beta, delta, omega_wolves, sol_size)\n",
    "    loss = [loss_fn(alpha, sol_size), loss_fn(beta, sol_size), loss_fn(delta, sol_size)]\n",
    "    losses.append(loss)\n",
    "    print(\"Fitness:\", loss)\n",
    "    \n",
    "    r1 = np.random.random((3, len(V)))\n",
    "    r2 = np.random.random((3, len(V)))\n",
    "    \n",
    "    for t in range(max_iters):\n",
    "        print(\"Iteration {}/{}\".format(t + 1, max_iters), end=\"\\t\")\n",
    "        a, A, C = update_random_constant_vectors(r1, r2, t)\n",
    "        \n",
    "        omega_wolves = update_position_vector(A, C, V, alpha, beta, delta, omega_wolves)\n",
    "        alpha, beta, delta, omega_wolves = update_pack(alpha, beta, delta, omega_wolves, sol_size)\n",
    "        \n",
    "        fitness_val =fitness(alpha,sol_size)\n",
    "        fitness_vals.append(fitness_val)\n",
    "        iter_vals.append(t)\n",
    "        \n",
    "        loss = [loss_fn(alpha, sol_size), loss_fn(beta, sol_size), loss_fn(delta, sol_size)]\n",
    "        losses.append(loss)\n",
    "        print(\"Fitness:\", loss)\n",
    "    plt.plot(iter_vals,fitness_vals)\n",
    "    plt.xlabel(\"Iteration\")\n",
    "    plt.ylabel(\"Fitness\")\n",
    "    plt.show()\n",
    "    return [alpha, beta, delta, omega_wolves], np.array(losses)\n",
    "\n",
    "wolves, losses = GWO(50, hamsterster, 40, 200)"
   ]
  },
  {
   "cell_type": "code",
   "execution_count": 15,
   "metadata": {
    "ExecuteTime": {
     "end_time": "2020-07-02T08:08:22.376362Z",
     "start_time": "2020-07-02T08:08:22.189703Z"
    }
   },
   "outputs": [
    {
     "data": {
      "image/png": "[encoded data removed]",
      "text/plain": [
       "<Figure size 640x480 with 1 Axes>"
      ]
     },
     "metadata": {},
     "output_type": "display_data"
    }
   ],
   "source": [
    "plt.plot(losses[:, 0],color='blue')\n",
    "plt.plot(losses[:, 1],color='orange')\n",
    "plt.plot(losses[:, 2],color='green')\n",
    "plt.show()"
   ]
  },
  {
   "cell_type": "code",
   "execution_count": null,
   "metadata": {},
   "outputs": [],
   "source": []
  }
 ],
 "metadata": {
  "kernelspec": {
   "display_name": "Python 3 (ipykernel)",
   "language": "python",
   "name": "python3"
  },
  "language_info": {
   "codemirror_mode": {
    "name": "ipython",
    "version": 3
   },
   "file_extension": ".py",
   "mimetype": "text/x-python",
   "name": "python",
   "nbconvert_exporter": "python",
   "pygments_lexer": "ipython3",
   "version": "3.9.13"
  }
 },
 "nbformat": 4,
 "nbformat_minor": 2
}
