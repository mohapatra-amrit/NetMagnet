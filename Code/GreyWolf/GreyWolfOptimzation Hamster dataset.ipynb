{
 "cells": [
  {
   "cell_type": "code",
   "execution_count": 1,
   "metadata": {
    "ExecuteTime": {
     "end_time": "2020-07-02T07:28:58.260931Z",
     "start_time": "2020-07-02T07:28:58.257551Z"
    }
   },
   "outputs": [],
   "source": [
    "import pandas as pd\n",
    "import networkx as nx\n",
    "import numpy as np\n",
    "import matplotlib.pyplot as plt"
   ]
  },
  {
   "cell_type": "code",
   "execution_count": 2,
   "metadata": {
    "ExecuteTime": {
     "end_time": "2020-07-02T05:38:13.301980Z",
     "start_time": "2020-07-02T05:38:13.282076Z"
    }
   },
   "outputs": [
    {
     "data": {
      "text/html": [
       "<div>\n",
       "<style scoped>\n",
       "    .dataframe tbody tr th:only-of-type {\n",
       "        vertical-align: middle;\n",
       "    }\n",
       "\n",
       "    .dataframe tbody tr th {\n",
       "        vertical-align: top;\n",
       "    }\n",
       "\n",
       "    .dataframe thead th {\n",
       "        text-align: right;\n",
       "    }\n",
       "</style>\n",
       "<table border=\"1\" class=\"dataframe\">\n",
       "  <thead>\n",
       "    <tr style=\"text-align: right;\">\n",
       "      <th></th>\n",
       "      <th>Source</th>\n",
       "      <th>Target</th>\n",
       "    </tr>\n",
       "  </thead>\n",
       "  <tbody>\n",
       "    <tr>\n",
       "      <th>0</th>\n",
       "      <td>99</td>\n",
       "      <td>98</td>\n",
       "    </tr>\n",
       "    <tr>\n",
       "      <th>1</th>\n",
       "      <td>999</td>\n",
       "      <td>550</td>\n",
       "    </tr>\n",
       "    <tr>\n",
       "      <th>2</th>\n",
       "      <td>999</td>\n",
       "      <td>549</td>\n",
       "    </tr>\n",
       "    <tr>\n",
       "      <th>3</th>\n",
       "      <td>999</td>\n",
       "      <td>42</td>\n",
       "    </tr>\n",
       "    <tr>\n",
       "      <th>4</th>\n",
       "      <td>999</td>\n",
       "      <td>25</td>\n",
       "    </tr>\n",
       "  </tbody>\n",
       "</table>\n",
       "</div>"
      ],
      "text/plain": [
       "   Source  Target\n",
       "0      99      98\n",
       "1     999     550\n",
       "2     999     549\n",
       "3     999      42\n",
       "4     999      25"
      ]
     },
     "execution_count": 2,
     "metadata": {},
     "output_type": "execute_result"
    }
   ],
   "source": [
    "edgelist = pd.read_csv(\"out.petster-hamster\", sep=\" \")\n",
    "edgelist.drop(['unweighted'], axis=1, inplace=True)\n",
    "edgelist.rename(columns={'%': 'Source', 'sym': 'Target'}, inplace=True)\n",
    "edgelist.head()"
   ]
  },
  {
   "cell_type": "code",
   "execution_count": 3,
   "metadata": {
    "ExecuteTime": {
     "end_time": "2020-07-02T05:38:13.414135Z",
     "start_time": "2020-07-02T05:38:13.409667Z"
    }
   },
   "outputs": [
    {
     "name": "stdout",
     "output_type": "stream",
     "text": [
      "<class 'pandas.core.frame.DataFrame'>\n",
      "RangeIndex: 16631 entries, 0 to 16630\n",
      "Data columns (total 2 columns):\n",
      " #   Column  Non-Null Count  Dtype\n",
      "---  ------  --------------  -----\n",
      " 0   Source  16631 non-null  int64\n",
      " 1   Target  16631 non-null  int64\n",
      "dtypes: int64(2)\n",
      "memory usage: 260.0 KB\n"
     ]
    }
   ],
   "source": [
    "edgelist.info()"
   ]
  },
  {
   "cell_type": "code",
   "execution_count": 4,
   "metadata": {
    "ExecuteTime": {
     "end_time": "2020-07-02T05:38:14.952466Z",
     "start_time": "2020-07-02T05:38:14.947879Z"
    }
   },
   "outputs": [],
   "source": [
    "p = 0.03 # Activation Probability used in independent cascade model\n",
    "k = 5    # Seed Size\n",
    "max_t = 1000  # Max Iterations"
   ]
  },
  {
   "cell_type": "code",
   "execution_count": 5,
   "metadata": {
    "ExecuteTime": {
     "end_time": "2020-07-02T05:38:15.396664Z",
     "start_time": "2020-07-02T05:38:15.344723Z"
    }
   },
   "outputs": [],
   "source": [
    "hamsterster = nx.read_edgelist(\"out.petster-hamster\", comments = '%')"
   ]
  },
  {
   "cell_type": "code",
   "execution_count": 6,
   "metadata": {
    "ExecuteTime": {
     "end_time": "2020-07-02T05:38:18.245107Z",
     "start_time": "2020-07-02T05:38:18.238385Z"
    }
   },
   "outputs": [
    {
     "data": {
      "text/plain": [
       "(2426, 16631)"
      ]
     },
     "execution_count": 6,
     "metadata": {},
     "output_type": "execute_result"
    }
   ],
   "source": [
    "num_nodes = hamsterster.number_of_nodes()\n",
    "num_edges = hamsterster.number_of_edges()\n",
    "num_nodes, num_edges"
   ]
  },
  {
   "cell_type": "code",
   "execution_count": 7,
   "metadata": {
    "ExecuteTime": {
     "end_time": "2020-07-02T05:38:21.130779Z",
     "start_time": "2020-07-02T05:38:21.126716Z"
    }
   },
   "outputs": [],
   "source": [
    "def neighbors(idx):\n",
    "    return list(dict(hamsterster.adjacency())[str(int(idx))])\n",
    "\n",
    "def len_second_neighbors(idx, neighbor_list=None):\n",
    "    if neighbor_list is None:\n",
    "        neighbor_list = neighbors(idx)\n",
    "    l = []\n",
    "    for t in neighbor_list:\n",
    "        l += neighbors(t)\n",
    "    if str(idx) in l:\n",
    "        return len(l) - 1\n",
    "    else:\n",
    "        return len(l)"
   ]
  },
  {
   "cell_type": "markdown",
   "metadata": {},
   "source": [
    "## Fitness"
   ]
  },
  {
   "cell_type": "code",
   "execution_count": 8,
   "metadata": {
    "ExecuteTime": {
     "end_time": "2020-07-02T07:14:10.088532Z",
     "start_time": "2020-07-02T07:14:10.077968Z"
    }
   },
   "outputs": [],
   "source": [
    "# Equation 13\n",
    "def get_seed_set(vec, sol_size):\n",
    "    try:\n",
    "        return np.argsort(vec[0, :])[- sol_size - 1:-1] + 1\n",
    "    except IndexError:\n",
    "        return np.argsort(vec)[-sol_size-1:-1] + 1\n",
    "\n",
    "def fitness(position_vec, sol_size):\n",
    "    wcj = []\n",
    "    if position_vec.shape[0] != 1:\n",
    "        position_vec = np.reshape(position_vec, newshape=(1, -1))\n",
    "    seed_set = get_seed_set(position_vec, sol_size)\n",
    "    for seed in seed_set:\n",
    "        nb_list = neighbors(seed)\n",
    "        dj = len(nb_list)\n",
    "        Ivj = p * dj * (dj + len_second_neighbors(seed, nb_list) * p)\n",
    "        wcj.append(Ivj)\n",
    "\n",
    "    return -1* np.sum(wcj * np.log(wcj/np.sum(wcj))) / np.sum(wcj) # Entropy"
   ]
  },
  {
   "cell_type": "markdown",
   "metadata": {},
   "source": [
    "## Wolves"
   ]
  },
  {
   "cell_type": "code",
   "execution_count": 9,
   "metadata": {
    "ExecuteTime": {
     "end_time": "2020-07-02T07:19:01.924184Z",
     "start_time": "2020-07-02T07:19:01.917957Z"
    }
   },
   "outputs": [],
   "source": [
    "# Algorithm 3\n",
    "def init_wolf(graph):\n",
    "    X = np.random.random((1, len(graph))) * list(dict(graph.degree()).values())\n",
    "#     X /= np.sum(X, axis=1)[:, None]\n",
    "    return X\n",
    "\n",
    "def init_omega_wolves(num, graph):\n",
    "    X = np.random.random((num, len(graph))) * list(dict(graph.degree()).values())\n",
    "#     X /= np.sum(X, axis=1)[:, None]\n",
    "    return X"
   ]
  },
  {
   "cell_type": "code",
   "execution_count": 10,
   "metadata": {
    "ExecuteTime": {
     "end_time": "2020-07-02T07:42:25.723330Z",
     "start_time": "2020-07-02T07:42:25.717971Z"
    }
   },
   "outputs": [],
   "source": [
    "# Equation 7, 8, 9\n",
    "def update_random_constant_vectors(r1, r2, t):    \n",
    "    a = 2. - 2. * t / max_t\n",
    "    A = 2 * r1 * a - a\n",
    "    C = 2 * r2\n",
    "    return a, A, C"
   ]
  },
  {
   "cell_type": "code",
   "execution_count": 11,
   "metadata": {
    "ExecuteTime": {
     "end_time": "2020-07-02T07:19:02.241917Z",
     "start_time": "2020-07-02T07:19:02.233495Z"
    }
   },
   "outputs": [],
   "source": [
    "# Algorithm 4\n",
    "def update_omega_wolf(A, C, V, Xi, alpha, beta, delta):\n",
    "    Y1 = alpha - A[0, :] * np.abs(C[0, :] * alpha - Xi)\n",
    "    Y2 = alpha - A[1, :] * np.abs(C[1, :] * delta - Xi)\n",
    "    Y3 = alpha - A[2, :] * np.abs(C[2, :] * alpha - Xi)\n",
    "    Xnew = (Y1 + Y2 + Y3)/3\n",
    "    return Xnew\n",
    "    \n",
    "def update_position_vector(A, C, V, alpha, beta, delta, omega_wolves):\n",
    "    for i in range(omega_wolves.shape[0]):\n",
    "        omega_wolves[i, :] = update_omega_wolf(A, C, V, omega_wolves[i, :], alpha, beta, delta)\n",
    "    return omega_wolves"
   ]
  },
  {
   "cell_type": "code",
   "execution_count": 12,
   "metadata": {
    "ExecuteTime": {
     "end_time": "2020-07-02T07:27:12.451629Z",
     "start_time": "2020-07-02T07:27:12.439728Z"
    }
   },
   "outputs": [],
   "source": [
    "def init_primary_pack(V, sol_size):\n",
    "    alpha = init_wolf(V)\n",
    "    beta = init_wolf(V)\n",
    "    delta = init_wolf(V)\n",
    "    \n",
    "    alpha_score = fitness(alpha, sol_size)\n",
    "    beta_score = fitness(beta, sol_size)\n",
    "    delta_score = fitness(delta, sol_size)\n",
    "    if delta_score > alpha_score:\n",
    "        delta, alpha = alpha, delta\n",
    "    if delta_score > beta_score:\n",
    "        delta, beta = beta, delta\n",
    "    if beta_score > alpha_score:\n",
    "        beta, alpha = alpha, beta\n",
    "    return alpha, beta, delta\n",
    "\n",
    "def update_pack(alpha, beta, delta, omega_wolves, sol_size):\n",
    "    alpha_score = fitness(alpha, sol_size)\n",
    "    beta_score = fitness(beta, sol_size)\n",
    "    delta_score = fitness(delta, sol_size)\n",
    "    for i in range(omega_wolves.shape[0]):\n",
    "        omega_score = fitness(omega_wolves[i:i+1], sol_size)\n",
    "        if omega_score > alpha_score:\n",
    "            temp = delta\n",
    "            delta = beta\n",
    "            beta = alpha\n",
    "            alpha = omega_wolves[i, :]\n",
    "            omega_wolves[i, :] = temp\n",
    "            del temp\n",
    "        elif omega_score > beta_score:\n",
    "            temp = delta\n",
    "            delta = beta\n",
    "            beta = omega_wolves[i, :]\n",
    "            omega_wolves[i, :] = temp\n",
    "            del temp\n",
    "        elif omega_score > delta_score:\n",
    "            delta, omega_wolves[i, :] = omega_wolves[i, :], delta\n",
    "    \n",
    "    return alpha, beta, delta, omega_wolves"
   ]
  },
  {
   "cell_type": "markdown",
   "metadata": {},
   "source": [
    "## Algorithm"
   ]
  },
  {
   "cell_type": "code",
   "execution_count": 13,
   "metadata": {
    "ExecuteTime": {
     "end_time": "2020-07-02T08:08:22.187841Z",
     "start_time": "2020-07-02T07:42:39.187684Z"
    },
    "scrolled": false
   },
   "outputs": [
    {
     "name": "stdout",
     "output_type": "stream",
     "text": [
      "Subgrah Selected with 2122 nodes\n",
      "Initialized 50 wolves\n",
      "Iteration 0/200\tFitness: [2.9948858993948297, 2.8485334258373056, 2.8479083206307045]\n",
      "Iteration 1/200\tFitness: [2.6523235649895844, 2.728482639682079, 2.755429084388421]\n",
      "Iteration 2/200\tFitness: [2.5708213409689096, 2.6811232217033756, 2.508924751210416]\n",
      "Iteration 3/200\tFitness: [2.2571838311252437, 2.3204387438008256, 2.2571838311252437]\n",
      "Iteration 4/200\tFitness: [2.030336955809687, 2.030336955809687, 2.1931266224418273]\n",
      "Iteration 5/200\tFitness: [2.0114317559178203, 2.079075418548054, 2.0114317559178203]\n",
      "Iteration 6/200\tFitness: [2.0379591806634507, 2.0379591806634507, 2.0563711170911296]\n",
      "Iteration 7/200\tFitness: [2.2244929798601882, 2.3236439755924203, 2.2244929798601882]\n",
      "Iteration 8/200\tFitness: [2.2158566186863187, 2.208353236431531, 2.2052125491661894]\n",
      "Iteration 9/200\tFitness: [2.133128019115367, 2.1653725621884736, 2.1212604922179152]\n",
      "Iteration 10/200\tFitness: [1.9942016026549516, 2.0442005471020552, 2.6496708540725757]\n",
      "Iteration 11/200\tFitness: [2.0458035431276853, 1.861365106176474, 1.8958296686117524]\n",
      "Iteration 12/200\tFitness: [1.9150774387225977, 1.9211416047791032, 2.0057876895678253]\n",
      "Iteration 13/200\tFitness: [1.9689104481101904, 1.9089737337675086, 1.9211416047791035]\n",
      "Iteration 14/200\tFitness: [1.9689104481101902, 1.908973733767508, 1.9689104481101904]\n",
      "Iteration 15/200\tFitness: [1.9689104481101904, 1.9689104481101904, 2.0143611904157686]\n",
      "Iteration 16/200\tFitness: [1.7934705329835676, 1.7934705329835676, 1.9593986558463747]\n",
      "Iteration 17/200\tFitness: [1.8475446549631969, 1.7934705329835676, 1.874742733971016]\n",
      "Iteration 18/200\tFitness: [1.8496064764518674, 1.8009881984881102, 1.9237921158417568]\n",
      "Iteration 19/200\tFitness: [1.803093258912544, 1.7382712464877135, 1.8075920688430867]\n",
      "Iteration 20/200\tFitness: [1.8974273409680074, 1.8030932589125435, 1.798703740368227]\n",
      "Iteration 21/200\tFitness: [1.8075920688430867, 1.798703740368227, 1.798703740368227]\n",
      "Iteration 22/200\tFitness: [1.8308348018982996, 1.8500751163315685, 1.917331448767239]\n",
      "Iteration 23/200\tFitness: [1.767778971953738, 1.7677789719537378, 1.8308348018982996]\n",
      "Iteration 24/200\tFitness: [1.767778971953738, 1.8235886120977964, 1.798703740368227]\n",
      "Iteration 25/200\tFitness: [1.737787689959077, 1.767778971953738, 1.767778971953738]\n",
      "Iteration 26/200\tFitness: [1.8235886120977967, 1.7377876899590765, 1.6517534758174566]\n",
      "Iteration 27/200\tFitness: [1.737787689959077, 1.6517534758174566, 1.767778971953738]\n",
      "Iteration 28/200\tFitness: [1.6517534758174566, 1.6517534758174566, 1.6517534758174566]\n",
      "Iteration 29/200\tFitness: [1.6517534758174566, 1.6517534758174566, 1.6517534758174568]\n",
      "Iteration 30/200\tFitness: [1.6517534758174566, 1.6517534758174566, 1.687205029335412]\n",
      "Iteration 31/200\tFitness: [1.6517534758174566, 1.6517534758174566, 1.6517534758174566]\n",
      "Iteration 32/200\tFitness: [1.6517534758174566, 1.6517534758174564, 1.6517534758174566]\n",
      "Iteration 33/200\tFitness: [1.6517534758174566, 1.6517534758174566, 1.6517534758174566]\n",
      "Iteration 34/200\tFitness: [1.6517534758174566, 1.6517534758174566, 1.6517534758174566]\n",
      "Iteration 35/200\tFitness: [1.6517534758174566, 1.6517534758174566, 1.6517534758174566]\n",
      "Iteration 36/200\tFitness: [1.6517534758174564, 1.6517534758174564, 1.6517534758174564]\n",
      "Iteration 37/200\tFitness: [1.62810354753055, 1.62810354753055, 1.62810354753055]\n",
      "Iteration 38/200\tFitness: [1.6281035475305503, 1.6281035475305503, 1.6281035475305503]\n",
      "Iteration 39/200\tFitness: [1.7130057453734244, 1.7130057453734244, 1.7130057453734244]\n",
      "Iteration 40/200\tFitness: [1.713005745373425, 1.713005745373425, 1.713005745373425]\n",
      "Iteration 41/200\tFitness: [1.7130057453734244, 1.7130057453734244, 1.7130057453734244]\n",
      "Iteration 42/200\tFitness: [1.7130057453734244, 1.7130057453734244, 1.7130057453734244]\n",
      "Iteration 43/200\tFitness: [1.7761736108615043, 1.7761736108615043, 1.7761736108615043]\n",
      "Iteration 44/200\tFitness: [2.4106272090393186, 2.4106272090393186, 2.4106272090393186]\n",
      "Iteration 45/200\tFitness: [2.4106272090393186, 2.4106272090393186, 2.4106272090393186]\n",
      "Iteration 46/200\tFitness: [2.4106272090393186, 2.4106272090393186, 2.4106272090393186]\n",
      "Iteration 47/200\tFitness: [2.410627209039318, 2.410627209039318, 2.410627209039318]\n",
      "Iteration 48/200\tFitness: [2.4106272090393186, 2.4106272090393186, 2.4106272090393186]\n",
      "Iteration 49/200\tFitness: [2.410627209039319, 2.410627209039319, 2.410627209039319]\n",
      "Iteration 50/200\tFitness: [2.461518371851617, 2.461518371851617, 2.461518371851617]\n",
      "Iteration 51/200\tFitness: [2.461518371851617, 2.461518371851617, 2.461518371851617]\n",
      "Iteration 52/200\tFitness: [2.4615183718516165, 2.4615183718516165, 2.4615183718516165]\n",
      "Iteration 53/200\tFitness: [2.4615183718516165, 2.4615183718516165, 2.4615183718516165]\n",
      "Iteration 54/200\tFitness: [2.4615183718516165, 2.4615183718516165, 2.4615183718516165]\n",
      "Iteration 55/200\tFitness: [2.4615183718516165, 2.4615183718516165, 2.4615183718516165]\n",
      "Iteration 56/200\tFitness: [2.437146189971267, 2.437146189971267, 2.437146189971267]\n",
      "Iteration 57/200\tFitness: [2.4391714880232516, 2.4391714880232516, 2.4391714880232516]\n",
      "Iteration 58/200\tFitness: [2.4391714880232516, 2.4391714880232516, 2.4391714880232516]\n",
      "Iteration 59/200\tFitness: [2.4391714880232516, 2.4391714880232516, 2.4391714880232516]\n",
      "Iteration 60/200\tFitness: [2.439171488023252, 2.439171488023252, 2.439171488023252]\n",
      "Iteration 61/200\tFitness: [2.4391714880232516, 2.4391714880232516, 2.4391714880232516]\n",
      "Iteration 62/200\tFitness: [2.4391714880232516, 2.4391714880232516, 2.4391714880232516]\n",
      "Iteration 63/200\tFitness: [2.5131027351343738, 2.5131027351343738, 2.5131027351343738]\n",
      "Iteration 64/200\tFitness: [2.5131027351343738, 2.5131027351343738, 2.5131027351343738]\n",
      "Iteration 65/200\tFitness: [2.5131027351343738, 2.5131027351343738, 2.5131027351343738]\n",
      "Iteration 66/200\tFitness: [2.5684117234836807, 2.5684117234836807, 2.5684117234836807]\n",
      "Iteration 67/200\tFitness: [2.5684117234836807, 2.5684117234836807, 2.5684117234836807]\n",
      "Iteration 68/200\tFitness: [2.574877994580004, 2.574877994580004, 2.574877994580004]\n",
      "Iteration 69/200\tFitness: [2.574877994580004, 2.574877994580004, 2.574877994580004]\n",
      "Iteration 70/200\tFitness: [2.574877994580004, 2.574877994580004, 2.574877994580004]\n",
      "Iteration 71/200\tFitness: [2.574877994580004, 2.574877994580004, 2.574877994580004]\n",
      "Iteration 72/200\tFitness: [2.574877994580004, 2.574877994580004, 2.574877994580004]\n",
      "Iteration 73/200\tFitness: [2.5713528075757863, 2.5713528075757863, 2.5713528075757863]\n",
      "Iteration 74/200\tFitness: [2.5713528075757863, 2.5713528075757863, 2.5713528075757863]\n",
      "Iteration 75/200\tFitness: [2.5713528075757868, 2.5713528075757868, 2.5713528075757868]\n",
      "Iteration 76/200\tFitness: [2.5713528075757868, 2.5713528075757868, 2.5713528075757868]\n",
      "Iteration 77/200\tFitness: [2.5713528075757868, 2.5713528075757868, 2.5713528075757868]\n",
      "Iteration 78/200\tFitness: [2.5713528075757868, 2.5713528075757868, 2.5713528075757868]\n",
      "Iteration 79/200\tFitness: [2.5713528075757863, 2.5713528075757863, 2.5713528075757863]\n",
      "Iteration 80/200\tFitness: [2.5713528075757863, 2.5713528075757863, 2.5713528075757863]\n",
      "Iteration 81/200\tFitness: [2.564033030037763, 2.564033030037763, 2.564033030037763]\n",
      "Iteration 82/200\tFitness: [2.564033030037763, 2.564033030037763, 2.564033030037763]\n",
      "Iteration 83/200\tFitness: [2.5431671437992143, 2.5431671437992143, 2.5431671437992143]\n",
      "Iteration 84/200\tFitness: [2.5431671437992143, 2.5431671437992143, 2.5431671437992143]\n",
      "Iteration 85/200\tFitness: [2.5431671437992143, 2.5431671437992143, 2.5431671437992143]\n",
      "Iteration 86/200\tFitness: [2.5431671437992143, 2.5431671437992143, 2.5431671437992143]\n",
      "Iteration 87/200\tFitness: [2.5431671437992143, 2.5431671437992143, 2.5431671437992143]\n",
      "Iteration 88/200\tFitness: [2.543167143799214, 2.543167143799214, 2.543167143799214]\n",
      "Iteration 89/200\tFitness: [2.543167143799214, 2.543167143799214, 2.543167143799214]\n",
      "Iteration 90/200\tFitness: [2.5431671437992143, 2.5431671437992143, 2.5431671437992143]\n",
      "Iteration 91/200\tFitness: [2.543167143799214, 2.543167143799214, 2.543167143799214]\n",
      "Iteration 92/200\tFitness: [2.543167143799214, 2.543167143799214, 2.543167143799214]\n",
      "Iteration 93/200\tFitness: [2.543167143799214, 2.543167143799214, 2.543167143799214]\n",
      "Iteration 94/200\tFitness: [2.543167143799214, 2.543167143799214, 2.543167143799214]\n"
     ]
    },
    {
     "name": "stdout",
     "output_type": "stream",
     "text": [
      "Iteration 95/200\tFitness: [2.543167143799214, 2.543167143799214, 2.543167143799214]\n",
      "Iteration 96/200\tFitness: [2.543167143799214, 2.543167143799214, 2.543167143799214]\n",
      "Iteration 97/200\tFitness: [2.543167143799214, 2.543167143799214, 2.543167143799214]\n",
      "Iteration 98/200\tFitness: [2.543167143799214, 2.543167143799214, 2.543167143799214]\n",
      "Iteration 99/200\tFitness: [2.543167143799214, 2.543167143799214, 2.543167143799214]\n",
      "Iteration 100/200\tFitness: [2.543167143799214, 2.543167143799214, 2.543167143799214]\n",
      "Iteration 101/200\tFitness: [2.5431671437992134, 2.5431671437992134, 2.5431671437992134]\n",
      "Iteration 102/200\tFitness: [2.5431671437992134, 2.5431671437992134, 2.5431671437992134]\n",
      "Iteration 103/200\tFitness: [2.5431671437992134, 2.5431671437992134, 2.5431671437992134]\n",
      "Iteration 104/200\tFitness: [2.5431671437992134, 2.5431671437992134, 2.5431671437992134]\n",
      "Iteration 105/200\tFitness: [2.5431671437992143, 2.5431671437992143, 2.5431671437992143]\n",
      "Iteration 106/200\tFitness: [2.5431671437992143, 2.5431671437992143, 2.5431671437992143]\n",
      "Iteration 107/200\tFitness: [2.5431671437992143, 2.5431671437992143, 2.5431671437992143]\n",
      "Iteration 108/200\tFitness: [2.5431671437992143, 2.5431671437992143, 2.5431671437992143]\n",
      "Iteration 109/200\tFitness: [2.5431671437992143, 2.5431671437992143, 2.5431671437992143]\n",
      "Iteration 110/200\tFitness: [2.5431671437992143, 2.5431671437992143, 2.5431671437992143]\n",
      "Iteration 111/200\tFitness: [2.5431671437992143, 2.5431671437992143, 2.5431671437992143]\n",
      "Iteration 112/200\tFitness: [2.5431671437992143, 2.5431671437992143, 2.5431671437992143]\n",
      "Iteration 113/200\tFitness: [2.5441097866084634, 2.5441097866084634, 2.5441097866084634]\n",
      "Iteration 114/200\tFitness: [2.5441097866084634, 2.5441097866084634, 2.5441097866084634]\n",
      "Iteration 115/200\tFitness: [2.5441097866084634, 2.5441097866084634, 2.5441097866084634]\n",
      "Iteration 116/200\tFitness: [2.5441097866084643, 2.5441097866084643, 2.5441097866084643]\n",
      "Iteration 117/200\tFitness: [2.5441097866084643, 2.5441097866084643, 2.5441097866084643]\n",
      "Iteration 118/200\tFitness: [2.5441097866084643, 2.5441097866084643, 2.5441097866084643]\n",
      "Iteration 119/200\tFitness: [2.5441097866084634, 2.5441097866084634, 2.5441097866084634]\n",
      "Iteration 120/200\tFitness: [2.5441097866084634, 2.5441097866084634, 2.5441097866084634]\n",
      "Iteration 121/200\tFitness: [2.5441097866084634, 2.5441097866084634, 2.5441097866084634]\n",
      "Iteration 122/200\tFitness: [2.5441097866084634, 2.5441097866084634, 2.5441097866084634]\n",
      "Iteration 123/200\tFitness: [2.5441097866084634, 2.5441097866084634, 2.5441097866084634]\n",
      "Iteration 124/200\tFitness: [2.5441097866084634, 2.5441097866084634, 2.5441097866084634]\n",
      "Iteration 125/200\tFitness: [2.5441097866084634, 2.5441097866084634, 2.5441097866084634]\n",
      "Iteration 126/200\tFitness: [2.5441097866084634, 2.5441097866084634, 2.5441097866084634]\n",
      "Iteration 127/200\tFitness: [2.5441097866084648, 2.5441097866084648, 2.5441097866084648]\n",
      "Iteration 128/200\tFitness: [2.5441097866084643, 2.5441097866084643, 2.5441097866084643]\n",
      "Iteration 129/200\tFitness: [2.5441097866084643, 2.5441097866084643, 2.5441097866084643]\n",
      "Iteration 130/200\tFitness: [2.5441097866084643, 2.5441097866084643, 2.5441097866084643]\n",
      "Iteration 131/200\tFitness: [2.5441097866084643, 2.5441097866084643, 2.5441097866084643]\n",
      "Iteration 132/200\tFitness: [2.5441097866084643, 2.5441097866084643, 2.5441097866084643]\n",
      "Iteration 133/200\tFitness: [2.5441097866084643, 2.5441097866084643, 2.5441097866084643]\n",
      "Iteration 134/200\tFitness: [2.5441097866084643, 2.5441097866084643, 2.5441097866084643]\n",
      "Iteration 135/200\tFitness: [2.5441097866084643, 2.5441097866084643, 2.5441097866084643]\n",
      "Iteration 136/200\tFitness: [2.5441097866084643, 2.5441097866084643, 2.5441097866084643]\n",
      "Iteration 137/200\tFitness: [2.5441097866084643, 2.5441097866084643, 2.5441097866084643]\n",
      "Iteration 138/200\tFitness: [2.530600709321177, 2.530600709321177, 2.530600709321177]\n",
      "Iteration 139/200\tFitness: [2.530600709321177, 2.530600709321177, 2.530600709321177]\n",
      "Iteration 140/200\tFitness: [2.530600709321177, 2.530600709321177, 2.530600709321177]\n",
      "Iteration 141/200\tFitness: [2.530600709321177, 2.530600709321177, 2.530600709321177]\n",
      "Iteration 142/200\tFitness: [2.530600709321177, 2.530600709321177, 2.530600709321177]\n",
      "Iteration 143/200\tFitness: [2.530600709321177, 2.530600709321177, 2.530600709321177]\n",
      "Iteration 144/200\tFitness: [2.530600709321177, 2.530600709321177, 2.530600709321177]\n",
      "Iteration 145/200\tFitness: [2.5306007093211766, 2.5306007093211766, 2.5306007093211766]\n",
      "Iteration 146/200\tFitness: [2.5306007093211766, 2.5306007093211766, 2.5306007093211766]\n",
      "Iteration 147/200\tFitness: [2.5306007093211766, 2.5306007093211766, 2.5306007093211766]\n",
      "Iteration 148/200\tFitness: [2.530600709321177, 2.530600709321177, 2.530600709321177]\n",
      "Iteration 149/200\tFitness: [2.530600709321177, 2.530600709321177, 2.530600709321177]\n",
      "Iteration 150/200\tFitness: [2.5460759147530667, 2.5460759147530667, 2.5460759147530667]\n",
      "Iteration 151/200\tFitness: [2.5460759147530667, 2.5460759147530667, 2.5460759147530667]\n",
      "Iteration 152/200\tFitness: [2.5460759147530667, 2.5460759147530667, 2.5460759147530667]\n",
      "Iteration 153/200\tFitness: [2.5460759147530667, 2.5460759147530667, 2.5460759147530667]\n",
      "Iteration 154/200\tFitness: [2.5460759147530667, 2.5460759147530667, 2.5460759147530667]\n",
      "Iteration 155/200\tFitness: [2.5460759147530667, 2.5460759147530667, 2.5460759147530667]\n",
      "Iteration 156/200\tFitness: [2.5460759147530667, 2.5460759147530667, 2.5460759147530667]\n",
      "Iteration 157/200\tFitness: [2.5460759147530667, 2.5460759147530667, 2.5460759147530667]\n",
      "Iteration 158/200\tFitness: [2.5460759147530667, 2.5460759147530667, 2.5460759147530667]\n",
      "Iteration 159/200\tFitness: [2.5460759147530667, 2.5460759147530667, 2.5460759147530667]\n",
      "Iteration 160/200\tFitness: [2.5460759147530667, 2.5460759147530667, 2.5460759147530667]\n",
      "Iteration 161/200\tFitness: [2.5460759147530663, 2.5460759147530663, 2.5460759147530663]\n",
      "Iteration 162/200\tFitness: [2.5460759147530663, 2.5460759147530663, 2.5460759147530663]\n",
      "Iteration 163/200\tFitness: [2.5460759147530663, 2.5460759147530663, 2.5460759147530663]\n",
      "Iteration 164/200\tFitness: [2.5460759147530663, 2.5460759147530663, 2.5460759147530663]\n",
      "Iteration 165/200\tFitness: [2.5460759147530663, 2.5460759147530663, 2.5460759147530663]\n",
      "Iteration 166/200\tFitness: [2.5460759147530663, 2.5460759147530663, 2.5460759147530663]\n",
      "Iteration 167/200\tFitness: [2.5460759147530663, 2.5460759147530663, 2.5460759147530663]\n",
      "Iteration 168/200\tFitness: [2.5460759147530663, 2.5460759147530663, 2.5460759147530663]\n",
      "Iteration 169/200\tFitness: [2.5460759147530663, 2.5460759147530663, 2.5460759147530663]\n",
      "Iteration 170/200\tFitness: [2.5460759147530663, 2.5460759147530663, 2.5460759147530663]\n",
      "Iteration 171/200\tFitness: [2.5460759147530663, 2.5460759147530663, 2.5460759147530663]\n",
      "Iteration 172/200\tFitness: [2.5460759147530663, 2.5460759147530663, 2.5460759147530663]\n",
      "Iteration 173/200\tFitness: [2.5460759147530663, 2.5460759147530663, 2.5460759147530663]\n",
      "Iteration 174/200\tFitness: [2.5460759147530663, 2.5460759147530663, 2.5460759147530663]\n",
      "Iteration 175/200\tFitness: [2.5460759147530663, 2.5460759147530663, 2.5460759147530663]\n",
      "Iteration 176/200\tFitness: [2.5605693279336066, 2.5605693279336066, 2.5605693279336066]\n",
      "Iteration 177/200\tFitness: [2.5605693279336066, 2.5605693279336066, 2.5605693279336066]\n",
      "Iteration 178/200\tFitness: [2.560569327933606, 2.560569327933606, 2.560569327933606]\n",
      "Iteration 179/200\tFitness: [2.560569327933606, 2.560569327933606, 2.560569327933606]\n",
      "Iteration 180/200\tFitness: [2.560569327933606, 2.560569327933606, 2.560569327933606]\n",
      "Iteration 181/200\tFitness: [2.560569327933606, 2.560569327933606, 2.560569327933606]\n",
      "Iteration 182/200\tFitness: [2.560569327933606, 2.560569327933606, 2.560569327933606]\n",
      "Iteration 183/200\tFitness: [2.560569327933606, 2.560569327933606, 2.560569327933606]\n",
      "Iteration 184/200\tFitness: [2.560569327933606, 2.560569327933606, 2.560569327933606]\n",
      "Iteration 185/200\tFitness: [2.560569327933606, 2.560569327933606, 2.560569327933606]\n",
      "Iteration 186/200\tFitness: [2.560569327933606, 2.560569327933606, 2.560569327933606]\n",
      "Iteration 187/200\tFitness: [2.560569327933606, 2.560569327933606, 2.560569327933606]\n",
      "Iteration 188/200\tFitness: [2.5605693279336066, 2.5605693279336066, 2.5605693279336066]\n"
     ]
    },
    {
     "name": "stdout",
     "output_type": "stream",
     "text": [
      "Iteration 189/200\tFitness: [2.5605693279336066, 2.5605693279336066, 2.5605693279336066]\n",
      "Iteration 190/200\tFitness: [2.5605693279336066, 2.5605693279336066, 2.5605693279336066]\n",
      "Iteration 191/200\tFitness: [2.5605693279336066, 2.5605693279336066, 2.5605693279336066]\n",
      "Iteration 192/200\tFitness: [2.5605693279336066, 2.5605693279336066, 2.5605693279336066]\n",
      "Iteration 193/200\tFitness: [2.560569327933606, 2.560569327933606, 2.560569327933606]\n",
      "Iteration 194/200\tFitness: [2.560569327933606, 2.560569327933606, 2.560569327933606]\n",
      "Iteration 195/200\tFitness: [2.560569327933606, 2.560569327933606, 2.560569327933606]\n",
      "Iteration 196/200\tFitness: [2.560569327933606, 2.560569327933606, 2.560569327933606]\n",
      "Iteration 197/200\tFitness: [2.560569327933606, 2.560569327933606, 2.560569327933606]\n",
      "Iteration 198/200\tFitness: [2.560569327933606, 2.560569327933606, 2.560569327933606]\n",
      "Iteration 199/200\tFitness: [2.560569327933606, 2.560569327933606, 2.560569327933606]\n",
      "Iteration 200/200\tFitness: [2.560569327933606, 2.560569327933606, 2.560569327933606]\n"
     ]
    },
    {
     "data": {
      "image/png": "[encoded data removed]",
      "text/plain": [
       "<Figure size 640x480 with 1 Axes>"
      ]
     },
     "metadata": {},
     "output_type": "display_data"
    }
   ],
   "source": [
    "def GWO(pack_size, graph, sol_size=3, max_iters=100, loss_fn=fitness):\n",
    "    assert pack_size > 3, \"Pack Size should be at least 4\"\n",
    "    losses = []\n",
    "\n",
    "    # V' selection\n",
    "    degree = hamsterster.degree()\n",
    "    to_keep = [n[0] for n in degree if n[1] != 1]\n",
    "    V = hamsterster.subgraph(to_keep)\n",
    "    print(\"Subgrah Selected with\", len(V), \"nodes\")\n",
    "\n",
    "    alpha, beta, delta = init_primary_pack(V, sol_size)\n",
    "    omega_wolves = init_omega_wolves(pack_size - 3, V)\n",
    "    fitness_vals= []\n",
    "    iter_vals = []\n",
    "    print(\"Initialized\", pack_size, \"wolves\")\n",
    "    print(\"Iteration {}/{}\".format(0, max_iters), end=\"\\t\")\n",
    "    alpha, beta, delta, omega_wolves = update_pack(alpha, beta, delta, omega_wolves, sol_size)\n",
    "    loss = [loss_fn(alpha, sol_size), loss_fn(beta, sol_size), loss_fn(delta, sol_size)]\n",
    "    losses.append(loss)\n",
    "    print(\"Fitness:\", loss)\n",
    "    \n",
    "    r1 = np.random.random((3, len(V)))\n",
    "    r2 = np.random.random((3, len(V)))\n",
    "    \n",
    "    for t in range(max_iters):\n",
    "        print(\"Iteration {}/{}\".format(t + 1, max_iters), end=\"\\t\")\n",
    "        a, A, C = update_random_constant_vectors(r1, r2, t)\n",
    "        \n",
    "        omega_wolves = update_position_vector(A, C, V, alpha, beta, delta, omega_wolves)\n",
    "        alpha, beta, delta, omega_wolves = update_pack(alpha, beta, delta, omega_wolves, sol_size)\n",
    "        \n",
    "        fitness_val =fitness(alpha,sol_size)\n",
    "        fitness_vals.append(fitness_val)\n",
    "        iter_vals.append(t)\n",
    "        \n",
    "        loss = [loss_fn(alpha, sol_size), loss_fn(beta, sol_size), loss_fn(delta, sol_size)]\n",
    "        losses.append(loss)\n",
    "        print(\"Fitness:\", loss)\n",
    "    plt.plot(iter_vals,fitness_vals)\n",
    "    plt.xlabel(\"Iteration\")\n",
    "    plt.ylabel(\"Fitness\")\n",
    "    plt.show()\n",
    "    return [alpha, beta, delta, omega_wolves], np.array(losses)\n",
    "\n",
    "wolves, losses = GWO(50, hamsterster, 40, 200)"
   ]
  },
  {
   "cell_type": "code",
   "execution_count": 15,
   "metadata": {},
   "outputs": [
    {
     "data": {
      "image/png": "[encoded data removed]",
      "text/plain": [
       "<Figure size 640x480 with 1 Axes>"
      ]
     },
     "metadata": {},
     "output_type": "display_data"
    }
   ],
   "source": [
    "plt.plot(losses[:, 0],color='blue')\n",
    "plt.plot(losses[:, 1],color='orange')\n",
    "plt.plot(losses[:, 2],color='green')\n",
    "plt.show()"
   ]
  },
  {
   "cell_type": "code",
   "execution_count": null,
   "metadata": {},
   "outputs": [],
   "source": []
  }
 ],
 "metadata": {
  "kernelspec": {
   "display_name": "Python 3 (ipykernel)",
   "language": "python",
   "name": "python3"
  },
  "language_info": {
   "codemirror_mode": {
    "name": "ipython",
    "version": 3
   },
   "file_extension": ".py",
   "mimetype": "text/x-python",
   "name": "python",
   "nbconvert_exporter": "python",
   "pygments_lexer": "ipython3",
   "version": "3.9.13"
  }
 },
 "nbformat": 4,
 "nbformat_minor": 2
}
